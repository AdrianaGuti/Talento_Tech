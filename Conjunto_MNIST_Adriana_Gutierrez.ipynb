{
  "nbformat": 4,
  "nbformat_minor": 0,
  "metadata": {
    "colab": {
      "provenance": [],
      "authorship_tag": "ABX9TyMftpXLLuNhHS4HdFnRVJx+",
      "include_colab_link": true
    },
    "kernelspec": {
      "name": "python3",
      "display_name": "Python 3"
    },
    "language_info": {
      "name": "python"
    }
  },
  "cells": [
    {
      "cell_type": "markdown",
      "metadata": {
        "id": "view-in-github",
        "colab_type": "text"
      },
      "source": [
        "<a href=\"https://colab.research.google.com/github/AdrianaGuti/Talento_Tech/blob/main/Conjunto_MNIST_Adriana_Gutierrez.ipynb\" target=\"_parent\"><img src=\"https://colab.research.google.com/assets/colab-badge.svg\" alt=\"Open In Colab\"/></a>"
      ]
    },
    {
      "cell_type": "code",
      "source": [
        "# Paso 1: Importar bibliotecas\n",
        "import tensorflow as tf                         #entrenamiento de las neuronas\n",
        "from tensorflow.keras import layers, models\n",
        "from tensorflow.keras.datasets import mnist\n",
        "import numpy as np                              #Manejo de datos en forma de matriz\n",
        "import matplotlib.pyplot as plt                 #Graficas\n",
        "from PIL import Image                           #manejo de imagenes\n",
        "\n",
        "# Paso 2: Cargar el conjunto de datos MNIST\n",
        "(x_train, y_train), (x_test, y_test) = mnist.load_data()\n",
        "\n",
        "# Paso 3: Preprocesar los datos\n",
        "x_train = x_train.astype('float32') / 255  # Normalización\n",
        "x_test = x_test.astype('float32') / 255\n",
        "x_train = x_train.reshape(-1, 28 * 28)     # Aplanar las imágenes\n",
        "x_test = x_test.reshape(-1, 28 * 28)\n",
        "y_train = tf.keras.utils.to_categorical(y_train, 10)  # One-hot encoding\n",
        "y_test = tf.keras.utils.to_categorical(y_test, 10)\n",
        "\n",
        "# Paso 4: Definir el modelo MLP\n",
        "model = models.Sequential()\n",
        "model.add(layers.Dense(512, activation='relu', input_shape=(28 * 28,)))\n",
        "model.add(layers.Dense(256, activation='relu'))\n",
        "model.add(layers.Dense(128, activation='relu'))\n",
        "#model.add(layers.Dense(32, activation='relu'))\n",
        "model.add(layers.Dense(10, activation='softmax'))  # 10 clases de salida\n",
        "\n",
        "# Paso 5: Compilar el modelo\n",
        "model.compile(optimizer='adam',loss='categorical_crossentropy',metrics=['accuracy'])\n",
        "# Paso 6: Entrenar el modelo\n",
        "history = model.fit(x_train, y_train, epochs=5, batch_size=128, validation_split=0.2)\n",
        "# Paso 7: Evaluar el modelo\n",
        "test_loss, test_acc = model.evaluate(x_test, y_test)\n",
        "print(f'Precisión en el conjunto de prueba: {test_acc}')\n",
        "# Paso 8: Probar el modelo con una imagen del conjunto de prueba\n",
        "imagen = x_test[0].reshape(1, 28 * 28)  # Seleccionar la primera imagen\n",
        "prediccion = model.predict(imagen)\n",
        "digit_predicho = np.argmax(prediccion)\n",
        "# Mostrar la imagen y el dígito predicho\n",
        "plt.imshow(x_test[0].reshape(28, 28), cmap='gray')\n",
        "plt.title(f'Predicción: {digit_predicho}')\n",
        "plt.show()\n"
      ],
      "metadata": {
        "colab": {
          "base_uri": "https://localhost:8080/",
          "height": 678
        },
        "id": "yDxVI1x_IzEg",
        "outputId": "fa84524c-fbef-472b-b082-e8c217a7e812"
      },
      "execution_count": 2,
      "outputs": [
        {
          "output_type": "stream",
          "name": "stdout",
          "text": [
            "Epoch 1/5\n",
            "\u001b[1m375/375\u001b[0m \u001b[32m━━━━━━━━━━━━━━━━━━━━\u001b[0m\u001b[37m\u001b[0m \u001b[1m8s\u001b[0m 17ms/step - accuracy: 0.8557 - loss: 0.4912 - val_accuracy: 0.9638 - val_loss: 0.1169\n",
            "Epoch 2/5\n",
            "\u001b[1m375/375\u001b[0m \u001b[32m━━━━━━━━━━━━━━━━━━━━\u001b[0m\u001b[37m\u001b[0m \u001b[1m10s\u001b[0m 16ms/step - accuracy: 0.9716 - loss: 0.0966 - val_accuracy: 0.9720 - val_loss: 0.0959\n",
            "Epoch 3/5\n",
            "\u001b[1m375/375\u001b[0m \u001b[32m━━━━━━━━━━━━━━━━━━━━\u001b[0m\u001b[37m\u001b[0m \u001b[1m11s\u001b[0m 18ms/step - accuracy: 0.9830 - loss: 0.0573 - val_accuracy: 0.9710 - val_loss: 0.0983\n",
            "Epoch 4/5\n",
            "\u001b[1m375/375\u001b[0m \u001b[32m━━━━━━━━━━━━━━━━━━━━\u001b[0m\u001b[37m\u001b[0m \u001b[1m11s\u001b[0m 19ms/step - accuracy: 0.9873 - loss: 0.0406 - val_accuracy: 0.9762 - val_loss: 0.0830\n",
            "Epoch 5/5\n",
            "\u001b[1m375/375\u001b[0m \u001b[32m━━━━━━━━━━━━━━━━━━━━\u001b[0m\u001b[37m\u001b[0m \u001b[1m6s\u001b[0m 16ms/step - accuracy: 0.9914 - loss: 0.0272 - val_accuracy: 0.9742 - val_loss: 0.0912\n",
            "\u001b[1m313/313\u001b[0m \u001b[32m━━━━━━━━━━━━━━━━━━━━\u001b[0m\u001b[37m\u001b[0m \u001b[1m1s\u001b[0m 3ms/step - accuracy: 0.9732 - loss: 0.0960\n",
            "Precisión en el conjunto de prueba: 0.9764000177383423\n",
            "\u001b[1m1/1\u001b[0m \u001b[32m━━━━━━━━━━━━━━━━━━━━\u001b[0m\u001b[37m\u001b[0m \u001b[1m0s\u001b[0m 72ms/step\n"
          ]
        },
        {
          "output_type": "display_data",
          "data": {
            "text/plain": [
              "<Figure size 640x480 with 1 Axes>"
            ],
            "image/png": "[encoded data removed]"
          },
          "metadata": {}
        }
      ]
    }
  ]
}